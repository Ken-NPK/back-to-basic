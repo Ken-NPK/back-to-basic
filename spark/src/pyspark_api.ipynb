{
 "cells": [
  {
   "cell_type": "code",
   "execution_count": 1,
   "metadata": {},
   "outputs": [],
   "source": [
    "from pyspark.sql import SparkSession\n",
    "from pyspark.sql.functions import col, to_date, to_timestamp_ntz, lit\n",
    "from pyspark.sql.types import DateType, IntegerType, BooleanType"
   ]
  },
  {
   "cell_type": "code",
   "execution_count": 2,
   "metadata": {},
   "outputs": [
    {
     "name": "stderr",
     "output_type": "stream",
     "text": [
      "Setting default log level to \"WARN\".\n",
      "To adjust logging level use sc.setLogLevel(newLevel). For SparkR, use setLogLevel(newLevel).\n",
      "25/02/03 15:29:36 WARN NativeCodeLoader: Unable to load native-hadoop library for your platform... using builtin-java classes where applicable\n"
     ]
    }
   ],
   "source": [
    "spark = SparkSession.builder.getOrCreate()\n",
    "spark.sparkContext.setLogLevel(\"ERROR\")"
   ]
  },
  {
   "cell_type": "code",
   "execution_count": 3,
   "metadata": {},
   "outputs": [
    {
     "name": "stderr",
     "output_type": "stream",
     "text": [
      "                                                                                \r"
     ]
    },
    {
     "data": {
      "text/plain": [
       "681166"
      ]
     },
     "execution_count": 3,
     "metadata": {},
     "output_type": "execute_result"
    }
   ],
   "source": [
    "fi_df_raw = spark.read.option(\"header\", True).csv(\"/jupyter/data/fire_incidents.csv\")\n",
    "fi_df_raw.count()"
   ]
  },
  {
   "cell_type": "code",
   "execution_count": 4,
   "metadata": {},
   "outputs": [
    {
     "data": {
      "text/plain": [
       "['Incident Number',\n",
       " 'Exposure Number',\n",
       " 'ID',\n",
       " 'Address',\n",
       " 'Incident Date',\n",
       " 'Call Number',\n",
       " 'Alarm DtTm',\n",
       " 'Arrival DtTm',\n",
       " 'Close DtTm',\n",
       " 'City',\n",
       " 'zipcode',\n",
       " 'Battalion',\n",
       " 'Station Area',\n",
       " 'Box',\n",
       " 'Suppression Units',\n",
       " 'Suppression Personnel',\n",
       " 'EMS Units',\n",
       " 'EMS Personnel',\n",
       " 'Other Units',\n",
       " 'Other Personnel',\n",
       " 'First Unit On Scene',\n",
       " 'Estimated Property Loss',\n",
       " 'Estimated Contents Loss',\n",
       " 'Fire Fatalities',\n",
       " 'Fire Injuries',\n",
       " 'Civilian Fatalities',\n",
       " 'Civilian Injuries',\n",
       " 'Number of Alarms',\n",
       " 'Primary Situation',\n",
       " 'Mutual Aid',\n",
       " 'Action Taken Primary',\n",
       " 'Action Taken Secondary',\n",
       " 'Action Taken Other',\n",
       " 'Detector Alerted Occupants',\n",
       " 'Property Use',\n",
       " 'Area of Fire Origin',\n",
       " 'Ignition Cause',\n",
       " 'Ignition Factor Primary',\n",
       " 'Ignition Factor Secondary',\n",
       " 'Heat Source',\n",
       " 'Item First Ignited',\n",
       " 'Human Factors Associated with Ignition',\n",
       " 'Structure Type',\n",
       " 'Structure Status',\n",
       " 'Floor of Fire Origin',\n",
       " 'Fire Spread',\n",
       " 'No Flame Spread',\n",
       " 'Number of floors with minimum damage',\n",
       " 'Number of floors with significant damage',\n",
       " 'Number of floors with heavy damage',\n",
       " 'Number of floors with extreme damage',\n",
       " 'Detectors Present',\n",
       " 'Detector Type',\n",
       " 'Detector Operation',\n",
       " 'Detector Effectiveness',\n",
       " 'Detector Failure Reason',\n",
       " 'Automatic Extinguishing System Present',\n",
       " 'Automatic Extinguishing Sytem Type',\n",
       " 'Automatic Extinguishing Sytem Perfomance',\n",
       " 'Automatic Extinguishing Sytem Failure Reason',\n",
       " 'Number of Sprinkler Heads Operating',\n",
       " 'Supervisor District',\n",
       " 'neighborhood_district',\n",
       " 'point',\n",
       " 'data_as_of',\n",
       " 'data_loaded_at']"
      ]
     },
     "execution_count": 4,
     "metadata": {},
     "output_type": "execute_result"
    }
   ],
   "source": [
    "fi_df_raw.columns"
   ]
  },
  {
   "cell_type": "code",
   "execution_count": 5,
   "metadata": {},
   "outputs": [
    {
     "name": "stdout",
     "output_type": "stream",
     "text": [
      "+-----------+-----------+---------+--------------------+-------------+---------+--------------------+--------------------+--------------------+----+-------+---------+------------+----+-----------------+---------------------+---------+-------------+-----------+---------------+-------------------+-----------------------+-----------------------+--------------+-------------+-------------------+-----------------+------------+--------------------+----------+--------------------+----------------------+------------------+--------------------------+--------------------+--------------------+---------------+-----------------------+-------------------------+--------------------+--------------------+--------------------------------------+--------------------+----------------+--------------------+----------+---------------+-------------------------+---------------------------------+---------------------------+-----------------------------+-----------------+--------------------+--------------------+----------------------+-----------------------+--------------------------------------+-----------------------------------+------------------------------------------+---------------------------------------------+-------------------------------+-------------------+---------------------+--------------------+--------------------+--------------------+\n",
      "|incident_no|exposure_no|       id|             address|incident_date|  call_no|      alarm_datetime|    arrival_datetime|      close_datetime|city|zipcode|battalion|station_area| box|suppression_units|suppression_personnel|ems_units|ems_personnel|other_units|other_personnel|first_unit_on_scene|estimated_property_loss|estimated_contents_loss|fire_fatalitis|fire_injuries|civilian_fatalities|civilian_injuries|no_of_alarms|   primary_situation|mutual_aid|action_taken_primary|action_taken_secondary|action_taken_other|detected_alerted_occupants|        property_use| area_of_fire_origin| ignition_cause|ignition_factor_primary|ignition_factor_secondary|            heat_src|  item_first_ignited|human_factors_associated_with_ignition|      structure_type|structure_status|floor_of_fire_origin|fire_speed|no_flame_spread|no_of_floors_with_min_dmg|no_of_floors_with_significant_dmg|no_of_floors_with_heavy_dmg|no_of_floors_with_extreme_dmg|detectors_present|       detector_type|  detector_operation|detector_effectiveness|detector_failure_reason|automatic_extinguishing_system_present|automatic_extinguishing_system_type|automatic_extinguishing_system_performance|automatic_extinguishing_system_failure_reason|no_of_sprinkler_heads_operating|supervisor_district|neighborhood_district|               point|          data_as_of|      data_loaded_at|\n",
      "+-----------+-----------+---------+--------------------+-------------+---------+--------------------+--------------------+--------------------+----+-------+---------+------------+----+-----------------+---------------------+---------+-------------+-----------+---------------+-------------------+-----------------------+-----------------------+--------------+-------------+-------------------+-----------------+------------+--------------------+----------+--------------------+----------------------+------------------+--------------------------+--------------------+--------------------+---------------+-----------------------+-------------------------+--------------------+--------------------+--------------------------------------+--------------------+----------------+--------------------+----------+---------------+-------------------------+---------------------------------+---------------------------+-----------------------------+-----------------+--------------------+--------------------+----------------------+-----------------------+--------------------------------------+-----------------------------------+------------------------------------------+---------------------------------------------+-------------------------------+-------------------+---------------------+--------------------+--------------------+--------------------+\n",
      "|   03000001|          0|030000010|       1301 Turk St.|   2003/07/08|031890183|2003/07/08 06:58:...|2003/07/08 06:58:...|2003/07/08 06:58:...|  SF|  94102|      B05|          05|3535|                1|                    1|        1|            1|          0|              0|               NULL|                      1|                      1|             0|            0|                  0|                0|           1| 111 - Building fire|      None|     11 - Extinguish|                  NULL|              NULL|      1 - Detector aler...|632 - Flight cont...|74 - Attic: vacan...|1 - Intentional|   14 - Flammable li...|                     NULL|00 - Heat source:...|00 - Item First I...|                            1 - Asleep|1 -Enclosed building|2 -In normal use|                   1|      NULL|              Y|                        1|                                0|                          0|                            0|       1 -Present|0 -Detector type,...|1 -Fire too small...|                  NULL|                   NULL|                            1 -Present|                               NULL|                                      NULL|                                         NULL|                              0|                  3|           Tenderloin|POINT (-122.41932...|2011/10/25 02:13:...|2024/10/22 02:18:...|\n",
      "|   03000003|          0|030000030|Broadway St. / Ta...|   2003/01/01|030010002|2003/01/01 12:02:...|2003/01/01 12:06:...|2003/01/01 12:06:...|  SF|  94108|      B01|          02|1442|                1|                    4|        0|            0|          0|              0|                E02|                      0|                      0|             0|            0|                  0|                0|           1|711 - Municipal a...|      None|    86 - Investigate|                  NULL|              NULL|                      NULL|962 - Residential...|                NULL|           NULL|                   NULL|                     NULL|                NULL|                NULL|                                  NULL|                NULL|            NULL|                NULL|      NULL|           NULL|                     NULL|                             NULL|                       NULL|                         NULL|             NULL|                NULL|                NULL|                  NULL|                   NULL|                                  NULL|                               NULL|                                      NULL|                                         NULL|                           NULL|                  3|             Nob Hill|POINT (-122.41356...|2003/04/05 02:24:...|2024/10/22 02:18:...|\n",
      "|   03000004|          0|030000040|Market St. / Steu...|   2003/01/01|030010004|2003/01/01 12:04:...|2003/01/01 12:07:...|2003/01/01 12:30:...|  SF|  94104|      B01|          13|1112|                1|                    5|        0|            0|          0|              0|               NULL|                    100|                      0|             0|            0|                  0|                0|           1|311 - Medical ass...|      None|30 - Emergency me...|                  NULL|              NULL|                      NULL|962 - Residential...|                NULL|           NULL|                   NULL|                     NULL|                NULL|                NULL|                                  NULL|                NULL|            NULL|                NULL|      NULL|           NULL|                     NULL|                             NULL|                       NULL|                         NULL|             NULL|                NULL|                NULL|                  NULL|                   NULL|                                  NULL|                               NULL|                                      NULL|                                         NULL|                           NULL|                  3| Financial Distric...|POINT (-122.39475...|2004/05/20 03:43:...|2024/10/22 02:18:...|\n",
      "|   03000006|          0|030000060|Market St. / Spea...|   2003/01/01|030010005|2003/01/01 12:07:...|2003/01/01 12:07:...|2003/01/01 12:23:...|  SF|  94104|      B01|          13|1113|                0|                    0|        1|            2|          0|              0|                 91|                      0|                      0|             0|            0|                  0|                0|           1|321 - EMS excludi...|      None|32 - Provide basi...|                  NULL|              NULL|                      NULL|419 - 1 or 2 fami...|                NULL|           NULL|                   NULL|                     NULL|                NULL|                NULL|                                  NULL|                NULL|            NULL|                NULL|      NULL|           NULL|                     NULL|                             NULL|                       NULL|                         NULL|             NULL|                NULL|                NULL|                  NULL|                   NULL|                                  NULL|                               NULL|                                      NULL|                                         NULL|                           NULL|                  6| Financial Distric...|POINT (-122.39563...|2004/05/20 03:54:...|2024/10/22 02:18:...|\n",
      "|   03000007|          0|030000070|3rd St. / Harriso...|   2003/01/01|030010007|2003/01/01 12:08:...|2003/01/01 12:11:...|2003/01/01 12:11:...|  SF|  94107|      B03|          08|2175|                1|                    4|        0|            0|          0|              0|               NULL|                      0|                      0|             0|            0|                  0|                0|           1|700 - False alarm...|      None|87 - Investigate ...|                  NULL|              NULL|                      NULL| 960 - Street, other|                NULL|           NULL|                   NULL|                     NULL|                NULL|                NULL|                                  NULL|                NULL|            NULL|                NULL|      NULL|           NULL|                     NULL|                             NULL|                       NULL|                         NULL|             NULL|                NULL|                NULL|                  NULL|                   NULL|                                  NULL|                               NULL|                                      NULL|                                         NULL|                           NULL|                  6|      South of Market|POINT (-122.39738...|2013/01/23 11:18:...|2024/10/22 02:18:...|\n",
      "|   03000014|          0|030000140|33rd Av. / Norieg...|   2003/01/01|030010016|2003/01/01 12:18:...|2003/01/01 12:21:...|2003/01/01 12:21:...|  SF|  94116|      B08|          18|7543|                1|                    4|        0|            0|          0|              0|                E18|                      0|                      0|             0|            0|                  0|                0|           1|711 - Municipal a...|      None|    86 - Investigate|                  NULL|              NULL|                      NULL|962 - Residential...|                NULL|           NULL|                   NULL|                     NULL|                NULL|                NULL|                                  NULL|                NULL|            NULL|                NULL|      NULL|           NULL|                     NULL|                             NULL|                       NULL|                         NULL|             NULL|                NULL|                NULL|                  NULL|                   NULL|                                  NULL|                               NULL|                                      NULL|                                         NULL|                           NULL|                  4|      Sunset/Parkside|POINT (-122.49147...|2003/04/06 09:26:...|2024/10/22 02:18:...|\n",
      "|   03000016|          0|030000160|        291 10th St.|   2003/01/01|030010019|2003/01/01 12:19:...|2003/01/01 12:26:...|2003/01/01 12:30:...|  SF|  94103|      B02|          36|2342|                3|                   11|        0|            0|          0|              0|                E36|                      0|                      0|             0|            0|                  0|                0|           1|710 - Malicious, ...|      None|    86 - Investigate|                  NULL|              NULL|                      NULL|322 - Alcohol/Sub...|                NULL|           NULL|                   NULL|                     NULL|                NULL|                NULL|                                  NULL|                NULL|            NULL|                NULL|      NULL|           NULL|                     NULL|                             NULL|                       NULL|                         NULL|             NULL|                NULL|                NULL|                  NULL|                   NULL|                                  NULL|                               NULL|                                      NULL|                                         NULL|                           NULL|                  6|      South of Market|POINT (-122.41294...|2003/04/03 09:26:...|2024/10/22 02:18:...|\n",
      "|   03000018|          0|030000180|11th St. / Howard...|   2003/01/01|030010023|2003/01/01 12:29:...|2003/01/01 12:31:...|2003/01/01 12:31:...|  SF|  94110|      B02|          36|5114|                1|                    4|        0|            0|          0|              0|               NULL|                      0|                      0|             0|            0|                  0|                0|           1|711 - Municipal a...|      None|    86 - Investigate|                  NULL|              NULL|                      NULL| 960 - Street, other|                NULL|           NULL|                   NULL|                     NULL|                NULL|                NULL|                                  NULL|                NULL|            NULL|                NULL|      NULL|           NULL|                     NULL|                             NULL|                       NULL|                         NULL|             NULL|                NULL|                NULL|                  NULL|                   NULL|                                  NULL|                               NULL|                                      NULL|                                         NULL|                           NULL|                  6|              Mission|POINT (-122.41556...|2003/04/03 04:21:...|2024/10/22 02:18:...|\n",
      "|   03000020|          0|030000200|3rd St. / Howard St.|   2003/01/01|030010028|2003/01/01 12:31:...|2003/01/01 12:32:...|2003/01/01 12:32:...|  SF|  94105|      B03|          01|2177|                2|                    9|        0|            0|          0|              0|               NULL|                      0|                      0|             0|            0|                  0|                0|           1|711 - Municipal a...|      None|    86 - Investigate|                  NULL|              NULL|                      NULL|963 - Street or r...|                NULL|           NULL|                   NULL|                     NULL|                NULL|                NULL|                                  NULL|                NULL|            NULL|                NULL|      NULL|           NULL|                     NULL|                             NULL|                       NULL|                         NULL|             NULL|                NULL|                NULL|                  NULL|                   NULL|                                  NULL|                               NULL|                                      NULL|                                         NULL|                           NULL|                  6| Financial Distric...|POINT (-122.40047...|2003/04/25 02:40:...|2024/10/22 02:18:...|\n",
      "|   03000021|          0|030000210|300 The Embarcade...|   2003/01/01|030010025|2003/01/01 12:32:...|2003/01/01 12:38:...|2003/01/01 12:38:...|  SF|  94104|      B03|          35|2112|                1|                    4|        0|            0|          0|              0|               NULL|                      0|                      0|             0|            0|                  0|                0|           1|711 - Municipal a...|      None|    86 - Investigate|                  NULL|              NULL|                      NULL| 960 - Street, other|                NULL|           NULL|                   NULL|                     NULL|                NULL|                NULL|                                  NULL|                NULL|            NULL|                NULL|      NULL|           NULL|                     NULL|                             NULL|                       NULL|                         NULL|             NULL|                NULL|                NULL|                  NULL|                   NULL|                                  NULL|                               NULL|                                      NULL|                                         NULL|                           NULL|                  6| Financial Distric...|POINT (-122.39009...|2003/04/11 11:37:...|2024/10/22 02:18:...|\n",
      "|   03000022|          0|030000220|      1439 Treat Wy.|   2003/01/01|030010031|2003/01/01 12:33:...|2003/01/01 12:36:...|2003/01/01 01:11:...|  SF|  94102|      B06|          07|5533|                1|                    1|        0|            0|          0|              0|                E07|                      0|                      0|             0|            0|                  0|                0|           1|118 - Trash or ru...|      None|     11 - Extinguish|                  NULL|              NULL|               U - Unknown|962 - Residential...|                NULL|           NULL|                   NULL|                     NULL|                NULL|                NULL|                                  NULL|                NULL|            NULL|                NULL|      NULL|           NULL|                     NULL|                             NULL|                       NULL|                         NULL|             NULL|                NULL|                NULL|                  NULL|                   NULL|                                  NULL|                               NULL|                                      NULL|                                         NULL|                           NULL|                  9|              Mission|POINT (-122.41253...|2003/07/08 10:33:...|2024/10/22 02:18:...|\n",
      "|   03000025|          0|030000250|   2 Henry Adams St.|   2003/01/01|030010036|2003/01/01 12:38:...|2003/01/01 12:41:...|2003/01/01 12:46:...|  SF|  94103|      B03|          29|2326|                3|                   11|        0|            0|          0|              0|                E29|                      0|                      0|             0|            0|                  0|                0|           1|730 - System malf...|      None|    86 - Investigate|                  NULL|              NULL|                      NULL|599 - Business of...|                NULL|           NULL|                   NULL|                     NULL|                NULL|                NULL|                                  NULL|                NULL|            NULL|                NULL|      NULL|           NULL|                     NULL|                             NULL|                       NULL|                         NULL|             NULL|                NULL|                NULL|                  NULL|                   NULL|                                  NULL|                               NULL|                                      NULL|                                         NULL|                           NULL|                  6|          Mission Bay|POINT (-122.40442...|2003/04/06 09:08:...|2024/10/22 02:18:...|\n",
      "|   03000026|          0|030000260|Folsom St. / The ...|   2003/01/01|030010039|2003/01/01 12:41:...|2003/01/01 12:41:...|2003/01/01 12:42:...|  SF|  94105|      B03|          35|2112|                2|                    9|        0|            0|          0|              0|                E44|                      0|                      0|             0|            0|                  0|                0|           1|711 - Municipal a...|      None|    86 - Investigate|                  NULL|              NULL|                      NULL|963 - Street or r...|                NULL|           NULL|                   NULL|                     NULL|                NULL|                NULL|                                  NULL|                NULL|            NULL|                NULL|      NULL|           NULL|                     NULL|                             NULL|                       NULL|                         NULL|             NULL|                NULL|                NULL|                  NULL|                   NULL|                                  NULL|                               NULL|                                      NULL|                                         NULL|                           NULL|                  6| Financial Distric...|POINT (-122.38998...|2003/04/10 06:03:...|2024/10/22 02:18:...|\n",
      "|   03000027|          0|030000270|        2 Parker Av.|   2003/01/01|030010041|2003/01/01 12:43:...|2003/01/01 12:47:...|2003/01/01 01:43:...|  SF|  94121|      B07|          10|4436|                1|                    4|        1|            4|          0|              0|                E10|                      0|                      0|             0|            0|                  0|                0|           1|463 - Vehicle acc...|      None|    10 - Fire, other|                  NULL|              NULL|                      NULL| 960 - Street, other|                NULL|           NULL|                   NULL|                     NULL|                NULL|                NULL|                                  NULL|                NULL|            NULL|                NULL|      NULL|           NULL|                     NULL|                             NULL|                       NULL|                         NULL|             NULL|                NULL|                NULL|                  NULL|                   NULL|                                  NULL|                               NULL|                                      NULL|                                         NULL|                           NULL|                  2|     Presidio Heights|POINT (-122.45468...|2003/04/03 04:32:...|2024/10/22 02:18:...|\n",
      "|   03000040|          0|030000400|Ellis St. / Hyde St.|   2003/01/01|030010056|2003/01/01 01:02:...|2003/01/01 01:05:...|2003/01/01 01:05:...|  SF|  94109|      B02|          03|NULL|                2|                    9|        0|            0|          0|              0|               NULL|                      0|                      0|             0|            0|                  0|                0|           1|711 - Municipal a...|      None|    86 - Investigate|                  NULL|              NULL|                      NULL|000 - Property Us...|                NULL|           NULL|                   NULL|                     NULL|                NULL|                NULL|                                  NULL|                NULL|            NULL|                NULL|      NULL|           NULL|                     NULL|                             NULL|                       NULL|                         NULL|             NULL|                NULL|                NULL|                  NULL|                   NULL|                                  NULL|                               NULL|                                      NULL|                                         NULL|                           NULL|                  5|           Tenderloin|POINT (-122.41607...|2003/04/06 12:31:...|2024/10/22 02:18:...|\n",
      "|   03000042|          0|030000420|Stockton St. / Su...|   2003/01/01|030010059|2003/01/01 01:04:...|2003/01/01 01:08:...|2003/01/01 01:08:...|  SF|  94102|      B01|          01|NULL|                2|                    9|        0|            0|          0|              0|               NULL|                      0|                      0|             0|            0|                  0|                0|           1|711 - Municipal a...|      None|    86 - Investigate|                  NULL|              NULL|                      NULL|963 - Street or r...|                NULL|           NULL|                   NULL|                     NULL|                NULL|                NULL|                                  NULL|                NULL|            NULL|                NULL|      NULL|           NULL|                     NULL|                             NULL|                       NULL|                         NULL|             NULL|                NULL|                NULL|                  NULL|                   NULL|                                  NULL|                               NULL|                                      NULL|                                         NULL|                           NULL|                  3| Financial Distric...|POINT (-122.40695...|2003/04/25 03:03:...|2024/10/22 02:18:...|\n",
      "|   03000058|          0|030000580|Coleridge St. / E...|   2003/01/01|030010076|2003/01/01 01:30:...|2003/01/01 01:37:...|2003/01/01 02:42:...|  SF|  94110|      B06|          32|NULL|                2|                    6|        1|            2|          0|              0|                E11|                      0|                      0|             0|            0|                  0|                0|           1|322 - Vehicle acc...|      None|33 - Provide adva...|                  NULL|              NULL|                      NULL|962 - Residential...|                NULL|           NULL|                   NULL|                     NULL|                NULL|                NULL|                                  NULL|                NULL|            NULL|                NULL|      NULL|           NULL|                     NULL|                             NULL|                       NULL|                         NULL|             NULL|                NULL|                NULL|                  NULL|                   NULL|                                  NULL|                               NULL|                                      NULL|                                         NULL|                           NULL|                  9|       Bernal Heights|POINT (-122.42097...|2003/05/12 09:18:...|2024/10/22 02:18:...|\n",
      "|   03000059|          0|030000590|Front St. / Valle...|   2003/01/01|030010077|2003/01/01 01:30:...|2003/01/01 01:37:...|2003/01/01 01:37:...|  SF|  94108|      B01|          13|NULL|                1|                    4|        0|            0|          0|              0|               NULL|                      0|                      0|             0|            0|                  0|                0|           1|711 - Municipal a...|      None|    86 - Investigate|                  NULL|              NULL|                      NULL|962 - Residential...|                NULL|           NULL|                   NULL|                     NULL|                NULL|                NULL|                                  NULL|                NULL|            NULL|                NULL|      NULL|           NULL|                     NULL|                             NULL|                       NULL|                         NULL|             NULL|                NULL|                NULL|                  NULL|                   NULL|                                  NULL|                               NULL|                                      NULL|                                         NULL|                           NULL|                  3| Financial Distric...|POINT (-122.40006...|2003/04/05 02:27:...|2024/10/22 02:18:...|\n",
      "|   03000060|          0|030000600|26th St. / Folsom...|   2003/01/01|030010078|2003/01/01 01:31:...|2003/01/01 01:36:...|2003/01/01 01:36:...|  SF|  94110|      B06|          07|NULL|                2|                    9|        0|            0|          0|              0|               NULL|                      0|                      0|             0|            0|                  0|                0|           1|700 - False alarm...|      None|    86 - Investigate|                  NULL|              NULL|                      NULL| 960 - Street, other|                NULL|           NULL|                   NULL|                     NULL|                NULL|                NULL|                                  NULL|                NULL|            NULL|                NULL|      NULL|           NULL|                     NULL|                             NULL|                       NULL|                         NULL|             NULL|                NULL|                NULL|                  NULL|                   NULL|                                  NULL|                               NULL|                                      NULL|                                         NULL|                           NULL|                  9|              Mission|POINT (-122.41377...|2003/04/03 03:12:...|2024/10/22 02:18:...|\n",
      "|   03000061|          0|030000610|   1250 Columbus Av.|   2003/01/01|030010080|2003/01/01 01:31:...|2003/01/01 01:36:...|2003/01/01 01:56:...|  SF|  94108|      B01|          28|NULL|                3|                   11|        0|            0|          0|              0|                T02|                      0|                      0|             0|            0|                  0|                0|           1|700 - False alarm...|      None|    86 - Investigate|                  NULL|              NULL|                      NULL|439 - Boarding/ro...|                NULL|           NULL|                   NULL|                     NULL|                NULL|                NULL|                                  NULL|                NULL|            NULL|                NULL|      NULL|           NULL|                     NULL|                             NULL|                       NULL|                         NULL|             NULL|                NULL|                NULL|                  NULL|                   NULL|                                  NULL|                               NULL|                                      NULL|                                         NULL|                           NULL|                  3|          North Beach|POINT (-122.41761...|2003/04/09 01:57:...|2024/10/22 02:18:...|\n",
      "+-----------+-----------+---------+--------------------+-------------+---------+--------------------+--------------------+--------------------+----+-------+---------+------------+----+-----------------+---------------------+---------+-------------+-----------+---------------+-------------------+-----------------------+-----------------------+--------------+-------------+-------------------+-----------------+------------+--------------------+----------+--------------------+----------------------+------------------+--------------------------+--------------------+--------------------+---------------+-----------------------+-------------------------+--------------------+--------------------+--------------------------------------+--------------------+----------------+--------------------+----------+---------------+-------------------------+---------------------------------+---------------------------+-----------------------------+-----------------+--------------------+--------------------+----------------------+-----------------------+--------------------------------------+-----------------------------------+------------------------------------------+---------------------------------------------+-------------------------------+-------------------+---------------------+--------------------+--------------------+--------------------+\n",
      "only showing top 20 rows\n",
      "\n"
     ]
    }
   ],
   "source": [
    "# Rename\n",
    "fi_df = fi_df_raw.withColumnsRenamed(\n",
    "    {\n",
    "        'Incident Number': 'incident_no',\n",
    "        'Exposure Number': 'exposure_no',\n",
    "        'ID': 'id',\n",
    "        'Address': 'address',\n",
    "        'Incident Date': 'incident_date',\n",
    "        'Call Number': 'call_no',\n",
    "        'Alarm DtTm': 'alarm_datetime',\n",
    "        'Arrival DtTm': 'arrival_datetime',\n",
    "        'Close DtTm': 'close_datetime',\n",
    "        'City': 'city',\n",
    "        'Battalion': 'battalion',\n",
    "        'Station Area': 'station_area',\n",
    "        'Box': 'box',\n",
    "        'Suppression Units': 'suppression_units',\n",
    "        'Suppression Personnel': 'suppression_personnel',\n",
    "        'EMS Units': 'ems_units',\n",
    "        'EMS Personnel': 'ems_personnel',\n",
    "        'Other Units': 'other_units',\n",
    "        'Other Personnel': 'other_personnel',\n",
    "        'First Unit On Scene': 'first_unit_on_scene',\n",
    "        'Estimated Property Loss': 'estimated_property_loss',\n",
    "        'Estimated Contents Loss': 'estimated_contents_loss',\n",
    "        'Fire Fatalities': 'fire_fatalitis',\n",
    "        'Fire Injuries': 'fire_injuries',\n",
    "        'Civilian Fatalities': 'civilian_fatalities',\n",
    "        'Civilian Injuries': 'civilian_injuries',\n",
    "        'Number of Alarms': 'no_of_alarms',\n",
    "        'Primary Situation': 'primary_situation',\n",
    "        'Mutual Aid': 'mutual_aid',\n",
    "        'Action Taken Primary': 'action_taken_primary',\n",
    "        'Action Taken Secondary': 'action_taken_secondary',\n",
    "        'Action Taken Other': 'action_taken_other',\n",
    "        'Detector Alerted Occupants': 'detected_alerted_occupants',\n",
    "        'Property Use': 'property_use',\n",
    "        'Area of Fire Origin': 'area_of_fire_origin',\n",
    "        'Ignition Cause': 'ignition_cause',\n",
    "        'Ignition Factor Primary': 'ignition_factor_primary',\n",
    "        'Ignition Factor Secondary': 'ignition_factor_secondary',\n",
    "        'Heat Source': 'heat_src',\n",
    "        'Item First Ignited': 'item_first_ignited',\n",
    "        'Human Factors Associated with Ignition': 'human_factors_associated_with_ignition',\n",
    "        'Structure Type': 'structure_type',\n",
    "        'Structure Status': 'structure_status',\n",
    "        'Floor of Fire Origin': 'floor_of_fire_origin',\n",
    "        'Fire Spread': 'fire_speed',\n",
    "        'No Flame Spread': 'no_flame_spread',\n",
    "        'Number of floors with minimum damage': 'no_of_floors_with_min_dmg',\n",
    "        'Number of floors with significant damage': 'no_of_floors_with_significant_dmg',\n",
    "        'Number of floors with heavy damage': 'no_of_floors_with_heavy_dmg',\n",
    "        'Number of floors with extreme damage': 'no_of_floors_with_extreme_dmg',\n",
    "        'Detectors Present': 'detectors_present',\n",
    "        'Detector Type': 'detector_type',\n",
    "        'Detector Operation': 'detector_operation',\n",
    "        'Detector Effectiveness': 'detector_effectiveness',\n",
    "        'Detector Failure Reason': 'detector_failure_reason',\n",
    "        'Automatic Extinguishing System Present': 'automatic_extinguishing_system_present',\n",
    "        'Automatic Extinguishing Sytem Type': 'automatic_extinguishing_system_type',\n",
    "        'Automatic Extinguishing Sytem Perfomance': 'automatic_extinguishing_system_performance',\n",
    "        'Automatic Extinguishing Sytem Failure Reason': 'automatic_extinguishing_system_failure_reason',\n",
    "        'Number of Sprinkler Heads Operating': 'no_of_sprinkler_heads_operating',\n",
    "        'Supervisor District': 'supervisor_district',\n",
    "        'neighborhood_district': 'neighborhood_district'\n",
    "    }\n",
    ")\n",
    "fi_df.show()"
   ]
  },
  {
   "cell_type": "code",
   "execution_count": 6,
   "metadata": {},
   "outputs": [
    {
     "name": "stdout",
     "output_type": "stream",
     "text": [
      "root\n",
      " |-- incident_no: string (nullable = true)\n",
      " |-- exposure_no: string (nullable = true)\n",
      " |-- id: string (nullable = true)\n",
      " |-- address: string (nullable = true)\n",
      " |-- incident_date: string (nullable = true)\n",
      " |-- call_no: string (nullable = true)\n",
      " |-- alarm_datetime: string (nullable = true)\n",
      " |-- arrival_datetime: string (nullable = true)\n",
      " |-- close_datetime: string (nullable = true)\n",
      " |-- city: string (nullable = true)\n",
      " |-- zipcode: string (nullable = true)\n",
      " |-- battalion: string (nullable = true)\n",
      " |-- station_area: string (nullable = true)\n",
      " |-- box: string (nullable = true)\n",
      " |-- suppression_units: string (nullable = true)\n",
      " |-- suppression_personnel: string (nullable = true)\n",
      " |-- ems_units: string (nullable = true)\n",
      " |-- ems_personnel: string (nullable = true)\n",
      " |-- other_units: string (nullable = true)\n",
      " |-- other_personnel: string (nullable = true)\n",
      " |-- first_unit_on_scene: string (nullable = true)\n",
      " |-- estimated_property_loss: string (nullable = true)\n",
      " |-- estimated_contents_loss: string (nullable = true)\n",
      " |-- fire_fatalitis: string (nullable = true)\n",
      " |-- fire_injuries: string (nullable = true)\n",
      " |-- civilian_fatalities: string (nullable = true)\n",
      " |-- civilian_injuries: string (nullable = true)\n",
      " |-- no_of_alarms: string (nullable = true)\n",
      " |-- primary_situation: string (nullable = true)\n",
      " |-- mutual_aid: string (nullable = true)\n",
      " |-- action_taken_primary: string (nullable = true)\n",
      " |-- action_taken_secondary: string (nullable = true)\n",
      " |-- action_taken_other: string (nullable = true)\n",
      " |-- detected_alerted_occupants: string (nullable = true)\n",
      " |-- property_use: string (nullable = true)\n",
      " |-- area_of_fire_origin: string (nullable = true)\n",
      " |-- ignition_cause: string (nullable = true)\n",
      " |-- ignition_factor_primary: string (nullable = true)\n",
      " |-- ignition_factor_secondary: string (nullable = true)\n",
      " |-- heat_src: string (nullable = true)\n",
      " |-- item_first_ignited: string (nullable = true)\n",
      " |-- human_factors_associated_with_ignition: string (nullable = true)\n",
      " |-- structure_type: string (nullable = true)\n",
      " |-- structure_status: string (nullable = true)\n",
      " |-- floor_of_fire_origin: string (nullable = true)\n",
      " |-- fire_speed: string (nullable = true)\n",
      " |-- no_flame_spread: string (nullable = true)\n",
      " |-- no_of_floors_with_min_dmg: string (nullable = true)\n",
      " |-- no_of_floors_with_significant_dmg: string (nullable = true)\n",
      " |-- no_of_floors_with_heavy_dmg: string (nullable = true)\n",
      " |-- no_of_floors_with_extreme_dmg: string (nullable = true)\n",
      " |-- detectors_present: string (nullable = true)\n",
      " |-- detector_type: string (nullable = true)\n",
      " |-- detector_operation: string (nullable = true)\n",
      " |-- detector_effectiveness: string (nullable = true)\n",
      " |-- detector_failure_reason: string (nullable = true)\n",
      " |-- automatic_extinguishing_system_present: string (nullable = true)\n",
      " |-- automatic_extinguishing_system_type: string (nullable = true)\n",
      " |-- automatic_extinguishing_system_performance: string (nullable = true)\n",
      " |-- automatic_extinguishing_system_failure_reason: string (nullable = true)\n",
      " |-- no_of_sprinkler_heads_operating: string (nullable = true)\n",
      " |-- supervisor_district: string (nullable = true)\n",
      " |-- neighborhood_district: string (nullable = true)\n",
      " |-- point: string (nullable = true)\n",
      " |-- data_as_of: string (nullable = true)\n",
      " |-- data_loaded_at: string (nullable = true)\n",
      "\n"
     ]
    }
   ],
   "source": [
    "fi_df.printSchema()"
   ]
  },
  {
   "cell_type": "code",
   "execution_count": 7,
   "metadata": {},
   "outputs": [
    {
     "name": "stdout",
     "output_type": "stream",
     "text": [
      "+-----------+-----------+---------+--------------------+-------------+---------+-------------------+-------------------+-------------------+----+-------+---------+------------+----+-----------------+---------------------+---------+-------------+-----------+---------------+-------------------+-----------------------+-----------------------+--------------+-------------+-------------------+-----------------+------------+--------------------+----------+--------------------+----------------------+------------------+--------------------------+--------------------+--------------------+---------------+-----------------------+-------------------------+--------------------+--------------------+--------------------------------------+--------------------+----------------+--------------------+----------+---------------+-------------------------+---------------------------------+---------------------------+-----------------------------+-----------------+--------------------+--------------------+----------------------+-----------------------+--------------------------------------+-----------------------------------+------------------------------------------+---------------------------------------------+-------------------------------+-------------------+---------------------+--------------------+-------------------+-------------------+\n",
      "|incident_no|exposure_no|       id|             address|incident_date|  call_no|     alarm_datetime|   arrival_datetime|     close_datetime|city|zipcode|battalion|station_area| box|suppression_units|suppression_personnel|ems_units|ems_personnel|other_units|other_personnel|first_unit_on_scene|estimated_property_loss|estimated_contents_loss|fire_fatalitis|fire_injuries|civilian_fatalities|civilian_injuries|no_of_alarms|   primary_situation|mutual_aid|action_taken_primary|action_taken_secondary|action_taken_other|detected_alerted_occupants|        property_use| area_of_fire_origin| ignition_cause|ignition_factor_primary|ignition_factor_secondary|            heat_src|  item_first_ignited|human_factors_associated_with_ignition|      structure_type|structure_status|floor_of_fire_origin|fire_speed|no_flame_spread|no_of_floors_with_min_dmg|no_of_floors_with_significant_dmg|no_of_floors_with_heavy_dmg|no_of_floors_with_extreme_dmg|detectors_present|       detector_type|  detector_operation|detector_effectiveness|detector_failure_reason|automatic_extinguishing_system_present|automatic_extinguishing_system_type|automatic_extinguishing_system_performance|automatic_extinguishing_system_failure_reason|no_of_sprinkler_heads_operating|supervisor_district|neighborhood_district|               point|         data_as_of|     data_loaded_at|\n",
      "+-----------+-----------+---------+--------------------+-------------+---------+-------------------+-------------------+-------------------+----+-------+---------+------------+----+-----------------+---------------------+---------+-------------+-----------+---------------+-------------------+-----------------------+-----------------------+--------------+-------------+-------------------+-----------------+------------+--------------------+----------+--------------------+----------------------+------------------+--------------------------+--------------------+--------------------+---------------+-----------------------+-------------------------+--------------------+--------------------+--------------------------------------+--------------------+----------------+--------------------+----------+---------------+-------------------------+---------------------------------+---------------------------+-----------------------------+-----------------+--------------------+--------------------+----------------------+-----------------------+--------------------------------------+-----------------------------------+------------------------------------------+---------------------------------------------+-------------------------------+-------------------+---------------------+--------------------+-------------------+-------------------+\n",
      "|   03000001|          0|030000010|       1301 Turk St.|   2003-07-08|031890183|2003-07-08 06:58:18|2003-07-08 06:58:39|2003-07-08 06:58:39|  SF|  94102|      B05|          05|3535|                1|                    1|        1|            1|          0|              0|               NULL|                      1|                      1|             0|            0|                  0|                0|           1| 111 - Building fire|      None|     11 - Extinguish|                  NULL|              NULL|      1 - Detector aler...|632 - Flight cont...|74 - Attic: vacan...|1 - Intentional|   14 - Flammable li...|                     NULL|00 - Heat source:...|00 - Item First I...|                            1 - Asleep|1 -Enclosed building|2 -In normal use|                   1|      NULL|              Y|                        1|                                0|                          0|                            0|       1 -Present|0 -Detector type,...|1 -Fire too small...|                  NULL|                   NULL|                            1 -Present|                               NULL|                                      NULL|                                         NULL|                              0|                  3|           Tenderloin|POINT (-122.41932...|2011-10-25 14:13:40|2024-10-22 02:18:44|\n",
      "|   03000003|          0|030000030|Broadway St. / Ta...|   2003-01-01|030010002|2003-01-01 00:02:13|2003-01-01 00:06:13|2003-01-01 00:06:37|  SF|  94108|      B01|          02|1442|                1|                    4|        0|            0|          0|              0|                E02|                      0|                      0|             0|            0|                  0|                0|           1|711 - Municipal a...|      None|    86 - Investigate|                  NULL|              NULL|                      NULL|962 - Residential...|                NULL|           NULL|                   NULL|                     NULL|                NULL|                NULL|                                  NULL|                NULL|            NULL|                NULL|      NULL|           NULL|                     NULL|                             NULL|                       NULL|                         NULL|             NULL|                NULL|                NULL|                  NULL|                   NULL|                                  NULL|                               NULL|                                      NULL|                                         NULL|                           NULL|                  3|             Nob Hill|POINT (-122.41356...|2003-04-05 14:24:13|2024-10-22 02:18:44|\n",
      "|   03000004|          0|030000040|Market St. / Steu...|   2003-01-01|030010004|2003-01-01 00:04:54|2003-01-01 00:07:50|2003-01-01 00:30:42|  SF|  94104|      B01|          13|1112|                1|                    5|        0|            0|          0|              0|               NULL|                    100|                      0|             0|            0|                  0|                0|           1|311 - Medical ass...|      None|30 - Emergency me...|                  NULL|              NULL|                      NULL|962 - Residential...|                NULL|           NULL|                   NULL|                     NULL|                NULL|                NULL|                                  NULL|                NULL|            NULL|                NULL|      NULL|           NULL|                     NULL|                             NULL|                       NULL|                         NULL|             NULL|                NULL|                NULL|                  NULL|                   NULL|                                  NULL|                               NULL|                                      NULL|                                         NULL|                           NULL|                  3| Financial Distric...|POINT (-122.39475...|2004-05-20 15:43:38|2024-10-22 02:18:44|\n",
      "|   03000006|          0|030000060|Market St. / Spea...|   2003-01-01|030010005|2003-01-01 00:07:32|2003-01-01 00:07:46|2003-01-01 00:23:00|  SF|  94104|      B01|          13|1113|                0|                    0|        1|            2|          0|              0|                 91|                      0|                      0|             0|            0|                  0|                0|           1|321 - EMS excludi...|      None|32 - Provide basi...|                  NULL|              NULL|                      NULL|419 - 1 or 2 fami...|                NULL|           NULL|                   NULL|                     NULL|                NULL|                NULL|                                  NULL|                NULL|            NULL|                NULL|      NULL|           NULL|                     NULL|                             NULL|                       NULL|                         NULL|             NULL|                NULL|                NULL|                  NULL|                   NULL|                                  NULL|                               NULL|                                      NULL|                                         NULL|                           NULL|                  6| Financial Distric...|POINT (-122.39563...|2004-05-20 15:54:48|2024-10-22 02:18:44|\n",
      "|   03000007|          0|030000070|3rd St. / Harriso...|   2003-01-01|030010007|2003-01-01 00:08:13|2003-01-01 00:11:19|2003-01-01 00:11:19|  SF|  94107|      B03|          08|2175|                1|                    4|        0|            0|          0|              0|               NULL|                      0|                      0|             0|            0|                  0|                0|           1|700 - False alarm...|      None|87 - Investigate ...|                  NULL|              NULL|                      NULL| 960 - Street, other|                NULL|           NULL|                   NULL|                     NULL|                NULL|                NULL|                                  NULL|                NULL|            NULL|                NULL|      NULL|           NULL|                     NULL|                             NULL|                       NULL|                         NULL|             NULL|                NULL|                NULL|                  NULL|                   NULL|                                  NULL|                               NULL|                                      NULL|                                         NULL|                           NULL|                  6|      South of Market|POINT (-122.39738...|2013-01-23 11:18:01|2024-10-22 02:18:44|\n",
      "|   03000014|          0|030000140|33rd Av. / Norieg...|   2003-01-01|030010016|2003-01-01 00:18:19|2003-01-01 00:21:15|2003-01-01 00:21:21|  SF|  94116|      B08|          18|7543|                1|                    4|        0|            0|          0|              0|                E18|                      0|                      0|             0|            0|                  0|                0|           1|711 - Municipal a...|      None|    86 - Investigate|                  NULL|              NULL|                      NULL|962 - Residential...|                NULL|           NULL|                   NULL|                     NULL|                NULL|                NULL|                                  NULL|                NULL|            NULL|                NULL|      NULL|           NULL|                     NULL|                             NULL|                       NULL|                         NULL|             NULL|                NULL|                NULL|                  NULL|                   NULL|                                  NULL|                               NULL|                                      NULL|                                         NULL|                           NULL|                  4|      Sunset/Parkside|POINT (-122.49147...|2003-04-06 21:26:02|2024-10-22 02:18:44|\n",
      "|   03000016|          0|030000160|        291 10th St.|   2003-01-01|030010019|2003-01-01 00:19:50|2003-01-01 00:26:23|2003-01-01 00:30:07|  SF|  94103|      B02|          36|2342|                3|                   11|        0|            0|          0|              0|                E36|                      0|                      0|             0|            0|                  0|                0|           1|710 - Malicious, ...|      None|    86 - Investigate|                  NULL|              NULL|                      NULL|322 - Alcohol/Sub...|                NULL|           NULL|                   NULL|                     NULL|                NULL|                NULL|                                  NULL|                NULL|            NULL|                NULL|      NULL|           NULL|                     NULL|                             NULL|                       NULL|                         NULL|             NULL|                NULL|                NULL|                  NULL|                   NULL|                                  NULL|                               NULL|                                      NULL|                                         NULL|                           NULL|                  6|      South of Market|POINT (-122.41294...|2003-04-03 21:26:19|2024-10-22 02:18:44|\n",
      "|   03000018|          0|030000180|11th St. / Howard...|   2003-01-01|030010023|2003-01-01 00:29:23|2003-01-01 00:31:44|2003-01-01 00:31:44|  SF|  94110|      B02|          36|5114|                1|                    4|        0|            0|          0|              0|               NULL|                      0|                      0|             0|            0|                  0|                0|           1|711 - Municipal a...|      None|    86 - Investigate|                  NULL|              NULL|                      NULL| 960 - Street, other|                NULL|           NULL|                   NULL|                     NULL|                NULL|                NULL|                                  NULL|                NULL|            NULL|                NULL|      NULL|           NULL|                     NULL|                             NULL|                       NULL|                         NULL|             NULL|                NULL|                NULL|                  NULL|                   NULL|                                  NULL|                               NULL|                                      NULL|                                         NULL|                           NULL|                  6|              Mission|POINT (-122.41556...|2003-04-03 16:21:49|2024-10-22 02:18:44|\n",
      "|   03000020|          0|030000200|3rd St. / Howard St.|   2003-01-01|030010028|2003-01-01 00:31:46|2003-01-01 00:32:46|2003-01-01 00:32:46|  SF|  94105|      B03|          01|2177|                2|                    9|        0|            0|          0|              0|               NULL|                      0|                      0|             0|            0|                  0|                0|           1|711 - Municipal a...|      None|    86 - Investigate|                  NULL|              NULL|                      NULL|963 - Street or r...|                NULL|           NULL|                   NULL|                     NULL|                NULL|                NULL|                                  NULL|                NULL|            NULL|                NULL|      NULL|           NULL|                     NULL|                             NULL|                       NULL|                         NULL|             NULL|                NULL|                NULL|                  NULL|                   NULL|                                  NULL|                               NULL|                                      NULL|                                         NULL|                           NULL|                  6| Financial Distric...|POINT (-122.40047...|2003-04-25 14:40:34|2024-10-22 02:18:44|\n",
      "|   03000021|          0|030000210|300 The Embarcade...|   2003-01-01|030010025|2003-01-01 00:32:54|2003-01-01 00:38:39|2003-01-01 00:38:39|  SF|  94104|      B03|          35|2112|                1|                    4|        0|            0|          0|              0|               NULL|                      0|                      0|             0|            0|                  0|                0|           1|711 - Municipal a...|      None|    86 - Investigate|                  NULL|              NULL|                      NULL| 960 - Street, other|                NULL|           NULL|                   NULL|                     NULL|                NULL|                NULL|                                  NULL|                NULL|            NULL|                NULL|      NULL|           NULL|                     NULL|                             NULL|                       NULL|                         NULL|             NULL|                NULL|                NULL|                  NULL|                   NULL|                                  NULL|                               NULL|                                      NULL|                                         NULL|                           NULL|                  6| Financial Distric...|POINT (-122.39009...|2003-04-11 11:37:50|2024-10-22 02:18:44|\n",
      "|   03000022|          0|030000220|      1439 Treat Wy.|   2003-01-01|030010031|2003-01-01 00:33:35|2003-01-01 00:36:51|2003-01-01 01:11:17|  SF|  94102|      B06|          07|5533|                1|                    1|        0|            0|          0|              0|                E07|                      0|                      0|             0|            0|                  0|                0|           1|118 - Trash or ru...|      None|     11 - Extinguish|                  NULL|              NULL|               U - Unknown|962 - Residential...|                NULL|           NULL|                   NULL|                     NULL|                NULL|                NULL|                                  NULL|                NULL|            NULL|                NULL|      NULL|           NULL|                     NULL|                             NULL|                       NULL|                         NULL|             NULL|                NULL|                NULL|                  NULL|                   NULL|                                  NULL|                               NULL|                                      NULL|                                         NULL|                           NULL|                  9|              Mission|POINT (-122.41253...|2003-07-08 10:33:06|2024-10-22 02:18:44|\n",
      "|   03000025|          0|030000250|   2 Henry Adams St.|   2003-01-01|030010036|2003-01-01 00:38:41|2003-01-01 00:41:56|2003-01-01 00:46:25|  SF|  94103|      B03|          29|2326|                3|                   11|        0|            0|          0|              0|                E29|                      0|                      0|             0|            0|                  0|                0|           1|730 - System malf...|      None|    86 - Investigate|                  NULL|              NULL|                      NULL|599 - Business of...|                NULL|           NULL|                   NULL|                     NULL|                NULL|                NULL|                                  NULL|                NULL|            NULL|                NULL|      NULL|           NULL|                     NULL|                             NULL|                       NULL|                         NULL|             NULL|                NULL|                NULL|                  NULL|                   NULL|                                  NULL|                               NULL|                                      NULL|                                         NULL|                           NULL|                  6|          Mission Bay|POINT (-122.40442...|2003-04-06 09:08:16|2024-10-22 02:18:44|\n",
      "|   03000026|          0|030000260|Folsom St. / The ...|   2003-01-01|030010039|2003-01-01 00:41:33|2003-01-01 00:41:57|2003-01-01 00:42:15|  SF|  94105|      B03|          35|2112|                2|                    9|        0|            0|          0|              0|                E44|                      0|                      0|             0|            0|                  0|                0|           1|711 - Municipal a...|      None|    86 - Investigate|                  NULL|              NULL|                      NULL|963 - Street or r...|                NULL|           NULL|                   NULL|                     NULL|                NULL|                NULL|                                  NULL|                NULL|            NULL|                NULL|      NULL|           NULL|                     NULL|                             NULL|                       NULL|                         NULL|             NULL|                NULL|                NULL|                  NULL|                   NULL|                                  NULL|                               NULL|                                      NULL|                                         NULL|                           NULL|                  6| Financial Distric...|POINT (-122.38998...|2003-04-10 18:03:26|2024-10-22 02:18:44|\n",
      "|   03000027|          0|030000270|        2 Parker Av.|   2003-01-01|030010041|2003-01-01 00:43:53|2003-01-01 00:47:00|2003-01-01 01:43:22|  SF|  94121|      B07|          10|4436|                1|                    4|        1|            4|          0|              0|                E10|                      0|                      0|             0|            0|                  0|                0|           1|463 - Vehicle acc...|      None|    10 - Fire, other|                  NULL|              NULL|                      NULL| 960 - Street, other|                NULL|           NULL|                   NULL|                     NULL|                NULL|                NULL|                                  NULL|                NULL|            NULL|                NULL|      NULL|           NULL|                     NULL|                             NULL|                       NULL|                         NULL|             NULL|                NULL|                NULL|                  NULL|                   NULL|                                  NULL|                               NULL|                                      NULL|                                         NULL|                           NULL|                  2|     Presidio Heights|POINT (-122.45468...|2003-04-03 16:32:48|2024-10-22 02:18:44|\n",
      "|   03000040|          0|030000400|Ellis St. / Hyde St.|   2003-01-01|030010056|2003-01-01 01:02:33|2003-01-01 01:05:48|2003-01-01 01:05:48|  SF|  94109|      B02|          03|NULL|                2|                    9|        0|            0|          0|              0|               NULL|                      0|                      0|             0|            0|                  0|                0|           1|711 - Municipal a...|      None|    86 - Investigate|                  NULL|              NULL|                      NULL|000 - Property Us...|                NULL|           NULL|                   NULL|                     NULL|                NULL|                NULL|                                  NULL|                NULL|            NULL|                NULL|      NULL|           NULL|                     NULL|                             NULL|                       NULL|                         NULL|             NULL|                NULL|                NULL|                  NULL|                   NULL|                                  NULL|                               NULL|                                      NULL|                                         NULL|                           NULL|                  5|           Tenderloin|POINT (-122.41607...|2003-04-06 12:31:04|2024-10-22 02:18:44|\n",
      "|   03000042|          0|030000420|Stockton St. / Su...|   2003-01-01|030010059|2003-01-01 01:04:23|2003-01-01 01:08:10|2003-01-01 01:08:10|  SF|  94102|      B01|          01|NULL|                2|                    9|        0|            0|          0|              0|               NULL|                      0|                      0|             0|            0|                  0|                0|           1|711 - Municipal a...|      None|    86 - Investigate|                  NULL|              NULL|                      NULL|963 - Street or r...|                NULL|           NULL|                   NULL|                     NULL|                NULL|                NULL|                                  NULL|                NULL|            NULL|                NULL|      NULL|           NULL|                     NULL|                             NULL|                       NULL|                         NULL|             NULL|                NULL|                NULL|                  NULL|                   NULL|                                  NULL|                               NULL|                                      NULL|                                         NULL|                           NULL|                  3| Financial Distric...|POINT (-122.40695...|2003-04-25 15:03:50|2024-10-22 02:18:44|\n",
      "|   03000058|          0|030000580|Coleridge St. / E...|   2003-01-01|030010076|2003-01-01 01:30:02|2003-01-01 01:37:10|2003-01-01 02:42:33|  SF|  94110|      B06|          32|NULL|                2|                    6|        1|            2|          0|              0|                E11|                      0|                      0|             0|            0|                  0|                0|           1|322 - Vehicle acc...|      None|33 - Provide adva...|                  NULL|              NULL|                      NULL|962 - Residential...|                NULL|           NULL|                   NULL|                     NULL|                NULL|                NULL|                                  NULL|                NULL|            NULL|                NULL|      NULL|           NULL|                     NULL|                             NULL|                       NULL|                         NULL|             NULL|                NULL|                NULL|                  NULL|                   NULL|                                  NULL|                               NULL|                                      NULL|                                         NULL|                           NULL|                  9|       Bernal Heights|POINT (-122.42097...|2003-05-12 21:18:30|2024-10-22 02:18:44|\n",
      "|   03000059|          0|030000590|Front St. / Valle...|   2003-01-01|030010077|2003-01-01 01:30:37|2003-01-01 01:37:46|2003-01-01 01:37:46|  SF|  94108|      B01|          13|NULL|                1|                    4|        0|            0|          0|              0|               NULL|                      0|                      0|             0|            0|                  0|                0|           1|711 - Municipal a...|      None|    86 - Investigate|                  NULL|              NULL|                      NULL|962 - Residential...|                NULL|           NULL|                   NULL|                     NULL|                NULL|                NULL|                                  NULL|                NULL|            NULL|                NULL|      NULL|           NULL|                     NULL|                             NULL|                       NULL|                         NULL|             NULL|                NULL|                NULL|                  NULL|                   NULL|                                  NULL|                               NULL|                                      NULL|                                         NULL|                           NULL|                  3| Financial Distric...|POINT (-122.40006...|2003-04-05 14:27:03|2024-10-22 02:18:44|\n",
      "|   03000060|          0|030000600|26th St. / Folsom...|   2003-01-01|030010078|2003-01-01 01:31:05|2003-01-01 01:36:24|2003-01-01 01:36:24|  SF|  94110|      B06|          07|NULL|                2|                    9|        0|            0|          0|              0|               NULL|                      0|                      0|             0|            0|                  0|                0|           1|700 - False alarm...|      None|    86 - Investigate|                  NULL|              NULL|                      NULL| 960 - Street, other|                NULL|           NULL|                   NULL|                     NULL|                NULL|                NULL|                                  NULL|                NULL|            NULL|                NULL|      NULL|           NULL|                     NULL|                             NULL|                       NULL|                         NULL|             NULL|                NULL|                NULL|                  NULL|                   NULL|                                  NULL|                               NULL|                                      NULL|                                         NULL|                           NULL|                  9|              Mission|POINT (-122.41377...|2003-04-03 15:12:19|2024-10-22 02:18:44|\n",
      "|   03000061|          0|030000610|   1250 Columbus Av.|   2003-01-01|030010080|2003-01-01 01:31:59|2003-01-01 01:36:12|2003-01-01 01:56:56|  SF|  94108|      B01|          28|NULL|                3|                   11|        0|            0|          0|              0|                T02|                      0|                      0|             0|            0|                  0|                0|           1|700 - False alarm...|      None|    86 - Investigate|                  NULL|              NULL|                      NULL|439 - Boarding/ro...|                NULL|           NULL|                   NULL|                     NULL|                NULL|                NULL|                                  NULL|                NULL|            NULL|                NULL|      NULL|           NULL|                     NULL|                             NULL|                       NULL|                         NULL|             NULL|                NULL|                NULL|                  NULL|                   NULL|                                  NULL|                               NULL|                                      NULL|                                         NULL|                           NULL|                  3|          North Beach|POINT (-122.41761...|2003-04-09 13:57:20|2024-10-22 02:18:44|\n",
      "+-----------+-----------+---------+--------------------+-------------+---------+-------------------+-------------------+-------------------+----+-------+---------+------------+----+-----------------+---------------------+---------+-------------+-----------+---------------+-------------------+-----------------------+-----------------------+--------------+-------------+-------------------+-----------------+------------+--------------------+----------+--------------------+----------------------+------------------+--------------------------+--------------------+--------------------+---------------+-----------------------+-------------------------+--------------------+--------------------+--------------------------------------+--------------------+----------------+--------------------+----------+---------------+-------------------------+---------------------------------+---------------------------+-----------------------------+-----------------+--------------------+--------------------+----------------------+-----------------------+--------------------------------------+-----------------------------------+------------------------------------------+---------------------------------------------+-------------------------------+-------------------+---------------------+--------------------+-------------------+-------------------+\n",
      "only showing top 20 rows\n",
      "\n"
     ]
    }
   ],
   "source": [
    "# Casting data to proper type\n",
    "fi_df = (\n",
    "    fi_df\n",
    "        ## Datetime changes\n",
    "        .withColumn(\"incident_date\", to_date(\"incident_date\", \"yyyy/MM/dd\"))\n",
    "        .withColumn(\"alarm_datetime\", to_timestamp_ntz(\"alarm_datetime\", lit(\"yyyy/MM/dd hh:mm:ss a\")))\n",
    "        .withColumn(\"arrival_datetime\", to_timestamp_ntz(\"arrival_datetime\", lit(\"yyyy/MM/dd hh:mm:ss a\")))\n",
    "        .withColumn(\"close_datetime\", to_timestamp_ntz(\"close_datetime\", lit(\"yyyy/MM/dd hh:mm:ss a\")))\n",
    "        .withColumn(\"data_as_of\", to_timestamp_ntz(\"data_as_of\", lit(\"yyyy/MM/dd hh:mm:ss a\")))\n",
    "        .withColumn(\"data_loaded_at\", to_timestamp_ntz(\"data_loaded_at\", lit(\"yyyy/MM/dd hh:mm:ss a\")))\n",
    ")\n",
    "fi_df.show()"
   ]
  }
 ],
 "metadata": {
  "kernelspec": {
   "display_name": "Python 3 (ipykernel)",
   "language": "python",
   "name": "python3"
  }
 },
 "nbformat": 4,
 "nbformat_minor": 2
}
